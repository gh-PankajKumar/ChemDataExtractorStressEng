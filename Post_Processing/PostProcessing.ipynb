{
 "cells": [
  {
   "cell_type": "markdown",
   "metadata": {},
   "source": [
    "# Post Processing\n",
    "\n",
    "This notebook walks through the processing of records that have been extracted using ChemDataExtractor (CDE). The Classes and relevant Functions written for this stage are contained in PostProcessing.py. \n",
    "\n",
    "Here, four different databases will be created using the output from CDE:\n",
    "1. Yield Strength\n",
    "2. Grain Size\n",
    "3. Combined Yield Strength & Grain Size\n",
    "4. Engineering Ready Yield Strength\n",
    "\n",
    "The databases will be exported in three formats:\n",
    "\n",
    "1. Json\n",
    "2. CSV\n",
    "3. MongoDB BSON"
   ]
  },
  {
   "cell_type": "code",
   "execution_count": null,
   "metadata": {},
   "outputs": [],
   "source": [
    "# Importing Relevant Modules\n",
    "from PostProcessing import DataProcessor # Custom Post Processing functions\n",
    "import pandas as pd\n",
    "import numpy as np\n",
    "import pymongo # For MongoDB BSON"
   ]
  },
  {
   "cell_type": "markdown",
   "metadata": {},
   "source": [
    "## Defining File Paths\n",
    "\n",
    "Here the directories to records extracted and where to save the databases are defined."
   ]
  },
  {
   "cell_type": "code",
   "execution_count": null,
   "metadata": {},
   "outputs": [],
   "source": [
    "ys_txt_open_path = \"./PATH\"\n",
    "ys_tbl_open_path = \"./PATH\"\n",
    "\n",
    "ys_txt_path = \"./PATH\"\n",
    "ys_tbl_path = \"./PATH\"\n",
    "\n",
    "\n",
    "gs_txt_open_path = \"./PATH\"\n",
    "gs_tbl_open_path = \"./PATH\"\n",
    "\n",
    "gs_txt_path = \"./PATH\"\n",
    "gs_tbl_path = \"./PATH\"\n",
    "\n",
    "save_dir_gs = \"./PATH\"\n",
    "save_dir_ys = \"./PATH\"\n",
    "save_dir_combined = \"./PATH\"\n"
   ]
  },
  {
   "cell_type": "markdown",
   "metadata": {},
   "source": [
    "## Reading Text and Table Records for Yield Strength:\n",
    "\n",
    "The extracted values of yield strength from text and tables are read and combined before being filtered using the defined functions in PostProcessing.py\n",
    "\n",
    "The property models used for extraction need to be defined as they are used as keys within the dictionaries storing the extracted records. "
   ]
  },
  {
   "cell_type": "code",
   "execution_count": null,
   "metadata": {},
   "outputs": [],
   "source": [
    "ys_txt_model = \"YieldStrength\"\n",
    "ys_tbl_model = \"TableYieldStrength\""
   ]
  },
  {
   "cell_type": "markdown",
   "metadata": {},
   "source": [
    "### Yield Strength SubAccess Processing:\n"
   ]
  },
  {
   "cell_type": "code",
   "execution_count": null,
   "metadata": {},
   "outputs": [],
   "source": [
    "ys_txt = DataProcessor(model=ys_txt_model, path= ys_txt_path)\n",
    "ys_tbl = DataProcessor(model=ys_tbl_model, path=ys_tbl_path)\n",
    "\n",
    "ys_txt.readOutput()\n",
    "ys_txt.recordReader()\n",
    "ys_txt.filterMatParser()\n",
    "ys_txt.filterDict()\n",
    "\n",
    "\n",
    "ys_tbl.readOutput()\n",
    "ys_tbl.recordReader()\n",
    "ys_tbl.filterMatParser()\n",
    "ys_tbl.filterDict()\n",
    "\n",
    "ys_database = ys_txt.filtered_database.append(ys_tbl.filtered_database)"
   ]
  },
  {
   "cell_type": "markdown",
   "metadata": {},
   "source": [
    "### Yield Strength Open Access Processing:\n"
   ]
  },
  {
   "cell_type": "code",
   "execution_count": null,
   "metadata": {},
   "outputs": [],
   "source": [
    "ys_txt_open = DataProcessor(model=ys_txt_model, path= ys_txt_open_path)\n",
    "ys_tbl_open = DataProcessor(model=ys_tbl_model, path=ys_tbl_open_path)\n",
    "\n",
    "ys_txt_open.readOutput()\n",
    "ys_txt_open.recordReader()\n",
    "ys_txt_open.filterMatParser()\n",
    "ys_txt_open.filterDict()\n",
    "\n",
    "\n",
    "ys_tbl_open.readOutput()\n",
    "ys_tbl_open.recordReader()\n",
    "ys_tbl_open.filterMatParser()\n",
    "ys_tbl_open.filterDict()\n",
    "\n",
    "ys_open_database = ys_txt_open.filtered_database.append(ys_tbl_open.filtered_database)"
   ]
  },
  {
   "cell_type": "markdown",
   "metadata": {},
   "source": [
    "### Combining open access and sub access results\n"
   ]
  },
  {
   "cell_type": "code",
   "execution_count": null,
   "metadata": {},
   "outputs": [],
   "source": [
    "full_ys_database = ys_database.append(ys_open_database).reset_index(drop=True).sort_values('DOI')"
   ]
  },
  {
   "cell_type": "markdown",
   "metadata": {},
   "source": [
    "## Engineering Ready Yield Strength Database\n",
    "For studies on Engineering hard materials, the typical range of yield strength values tends to be between 100 MPa and 1500 MPa which are also motivated by the statistical outliers of the full yield strength database. Thus, the Engineering Ready Yield Strength database restricts value to be within in this range. "
   ]
  },
  {
   "cell_type": "code",
   "execution_count": null,
   "metadata": {},
   "outputs": [],
   "source": [
    "er_ys_database = full_ys_database.explode(\"Value\")\n",
    "er_ys_database = er_ys_database[(er_ys_database[\"Value\"]>100) & (er_ys_database[\"Units\"]=='(10^6.0) * Pascal^(1.0)') | (er_ys_database[\"Value\"]>0.1) & (er_ys_database[\"Units\"]=='(10^9.0) * Pascal^(1.0)')]\n",
    "er_ys_database = er_ys_database[(er_ys_database[\"Value\"]<1500) & (er_ys_database[\"Units\"]=='(10^6.0) * Pascal^(1.0)') | (er_ys_database[\"Value\"]<1.5) & (er_ys_database[\"Units\"]=='(10^9.0) * Pascal^(1.0)')]\n"
   ]
  },
  {
   "cell_type": "markdown",
   "metadata": {},
   "source": [
    "## Reading Text and Table records for Grain Size\n",
    "\n",
    "The process is the same as for Yield Strength"
   ]
  },
  {
   "cell_type": "code",
   "execution_count": null,
   "metadata": {},
   "outputs": [],
   "source": [
    "gs_txt_model = \"GrainSize\"\n",
    "gs_tbl_model = \"TableGrainSize\""
   ]
  },
  {
   "cell_type": "markdown",
   "metadata": {},
   "source": [
    "### Grain Size Sub Access"
   ]
  },
  {
   "cell_type": "code",
   "execution_count": null,
   "metadata": {},
   "outputs": [],
   "source": [
    "gs_txt = DataProcessor(model=gs_txt_model, path= gs_txt_path)\n",
    "gs_tbl = DataProcessor(model=gs_tbl_model, path=gs_tbl_path)\n",
    "\n",
    "gs_txt.readOutput()\n",
    "gs_txt.recordReader()\n",
    "gs_txt.filterMatParser()\n",
    "gs_txt.filterDict()\n",
    "\n",
    "\n",
    "gs_tbl.readOutput()\n",
    "gs_tbl.recordReader()\n",
    "gs_tbl.filterMatParser()\n",
    "gs_tbl.filterDict()\n",
    "gs_database = gs_txt.filtered_database.append(gs_tbl.filtered_database)"
   ]
  },
  {
   "cell_type": "markdown",
   "metadata": {},
   "source": [
    "### Grain Size Open Access"
   ]
  },
  {
   "cell_type": "code",
   "execution_count": null,
   "metadata": {},
   "outputs": [],
   "source": [
    "gs_txt_open = DataProcessor(model=gs_txt_model, path= gs_txt_open_path)\n",
    "gs_tbl_open = DataProcessor(model=gs_tbl_model, path=gs_tbl_open_path)\n",
    "\n",
    "gs_txt_open.readOutput()\n",
    "gs_txt_open.recordReader()\n",
    "gs_txt_open.filterMatParser()\n",
    "gs_txt_open.filterDict()\n",
    "\n",
    "\n",
    "gs_tbl_open.readOutput()\n",
    "gs_tbl_open.recordReader()\n",
    "gs_tbl_open.filterMatParser()\n",
    "gs_tbl_open.filterDict()\n",
    "\n",
    "gs_open_database = gs_txt_open.filtered_database.append(gs_tbl_open.filtered_database)"
   ]
  },
  {
   "cell_type": "code",
   "execution_count": null,
   "metadata": {},
   "outputs": [],
   "source": [
    "gs_txt_open = DataProcessor(model=gs_txt_model, path= gs_txt_open_path)\n",
    "gs_tbl_open = DataProcessor(model=gs_tbl_model, path=gs_tbl_open_path)\n",
    "\n",
    "gs_txt_open.readOutput()\n",
    "gs_txt_open.recordReader()\n",
    "gs_txt_open.filterMatParser()\n",
    "gs_txt_open.filterDict()\n",
    "\n",
    "\n",
    "gs_tbl_open.readOutput()\n",
    "gs_tbl_open.recordReader()\n",
    "gs_tbl_open.filterMatParser()\n",
    "gs_tbl_open.filterDict()\n",
    "\n",
    "gs_open_database = gs_txt_open.filtered_database.append(gs_tbl_open.filtered_database)\n",
    "full_gs_database = gs_database.append(gs_open_database).reset_index(drop=True).sort_values('DOI')"
   ]
  },
  {
   "cell_type": "markdown",
   "metadata": {},
   "source": [
    "### Combining Open Access and Sub Access results"
   ]
  },
  {
   "cell_type": "code",
   "execution_count": null,
   "metadata": {},
   "outputs": [],
   "source": [
    "full_gs_database = gs_database.append(gs_open_database).reset_index(drop=True).sort_values('DOI')"
   ]
  },
  {
   "cell_type": "markdown",
   "metadata": {},
   "source": [
    "## Combined Yield Strength and Grain Size Database\n",
    "\n",
    "For further study of the relationship between yield strength and grain size, the two databases are combined. Entries from either database that come from the same article are paired based on the following conditions:\n",
    "1. Entries have the same DOI\n",
    "2. Same number of grain size and yield strength values\n",
    "\n",
    "The pairing begins by sorting the yield strength values in descending order and the grain size in ascending. Then, the list of values are paired such that the smaller grain sizes are assigned to the larger yield strength values."
   ]
  },
  {
   "cell_type": "code",
   "execution_count": null,
   "metadata": {},
   "outputs": [],
   "source": [
    "full_ys_database['name'] = full_ys_database['Compound'].apply(','.join)\n",
    "full_gs_database['name'] = full_gs_database['Compound'].apply(','.join)\n",
    "combined = []\n",
    "for name in full_ys_database['name'].unique():\n",
    "\n",
    "    ys_name = full_ys_database[full_ys_database['name']==name]\n",
    "    gs_name = full_gs_database[full_gs_database['name']==name]\n",
    "    doi = ys_name[ys_name['DOI'].isin(gs_name['DOI'])].DOI.to_numpy()    \n",
    "    for article in np.unique(doi):\n",
    "        ys = ys_name[ys_name.DOI == article]\n",
    "        gs = gs_name[gs_name.DOI == article]\n",
    "\n",
    "        if len(gs) == len(ys):\n",
    "\n",
    "            gs_val = gs.sort_values('Value',ascending=False).Value.to_numpy()\n",
    "            gs_unit = gs.sort_values('Value',ascending=False).Units.to_numpy()\n",
    "            ys_val = ys.sort_values('Value',ascending=True).Value.to_numpy()\n",
    "            ys_unit = ys.sort_values('Value',ascending=True).Units.to_numpy()\n",
    "            compound = ys['Compound'].to_numpy()\n",
    "            open_access = ys['Open Access'].to_numpy()\n",
    "            blacklist = ys['Blacklisted Compound?'].to_numpy()\n",
    "            for i in range(len(ys)):\n",
    "                combined.append([compound[i],blacklist[i],ys_val[i],ys_unit[i],gs_val[i],gs_unit[i],article,open_access[i]])\n",
    "\n",
    "        else:\n",
    "\n",
    "            pass        \n",
    "combined_data = pd.DataFrame(combined, columns=['Compound', 'Blacklisted Compound?', 'Yield Strength Value', 'Yield Strength Unit', 'Grain Size Value', 'Grain Size Unit','DOI', 'Open Access']) "
   ]
  },
  {
   "cell_type": "markdown",
   "metadata": {},
   "source": [
    "## Exporting Databases\n",
    "\n",
    "The processed data is exported into Json, CSV and MongoDB BSON formats such that they can be implented easily into any lookup or data-driven pipeline."
   ]
  },
  {
   "cell_type": "code",
   "execution_count": null,
   "metadata": {},
   "outputs": [],
   "source": [
    "export_full_ys = full_ys_database.drop(columns=['name'])\n",
    "export_full_gs = full_gs_database.drop(columns=['name'])\n",
    "export_er_ys = er_ys_database\n",
    "export_combined = combined_data"
   ]
  },
  {
   "cell_type": "markdown",
   "metadata": {},
   "source": [
    "### Exporting To CSV & Json\n",
    "\n",
    "This is done using the inbuilt functions of pandas."
   ]
  },
  {
   "cell_type": "code",
   "execution_count": null,
   "metadata": {},
   "outputs": [],
   "source": [
    "#To Json\n",
    "export_full_ys.to_json(save_dir_ys+\"YieldStrength_Database.json\", orient=\"records\")\n",
    "export_full_gs.to_json(save_dir_gs+\"GrainSize_Database.json\", orient=\"records\")\n",
    "export_er_ys.to_json(save_dir_ys+\"EngineeringReady_YieldStrength_Database.json\", orient=\"records\")\n",
    "export_combined.to_json(save_dir_combined+\"Combined_YieldStrength_GrainSize_Database.json\", orient=\"records\")\n",
    "\n",
    "#To CSV\n",
    "export_full_ys.to_csv(save_dir_ys+\"YieldStrength_Database.csv\", index=False)\n",
    "export_full_gs.to_csv(save_dir_gs+\"GrainSize_Database.csv\", index=False)\n",
    "export_er_ys.to_csv(save_dir_ys+\"EngineeringReady_YieldStrength_Database.csv\", index=False)\n",
    "export_combined.to_csv(save_dir_combined+\"Combined_YieldStrength_GrainSize_Database.csv\", index=False)"
   ]
  },
  {
   "cell_type": "markdown",
   "metadata": {},
   "source": [
    "### Exporting to MongoDB BSON\n",
    "\n",
    "This requires MongoDB to be installed and setup alongside the pymongo package.\n",
    "\n",
    "See:\n",
    "[1] https://pypi.org/project/pymongo/\n",
    "[2] https://docs.mongodb.com/"
   ]
  },
  {
   "cell_type": "code",
   "execution_count": null,
   "metadata": {},
   "outputs": [],
   "source": [
    "client = pymongo.MongoClient()\n",
    "\n",
    "db = client[\"StressDatabases\"]\n",
    "\n",
    "ys_col = db[\"Yield Strength\"]\n",
    "gs_col  = db[\"Grain Size\"]\n",
    "combined_col = db[\"Combined Yield Strength and Grain Size\"]\n",
    "er_ys_col = db[\"Engineering Ready Yield Strength\"]\n",
    "\n",
    "\n",
    "ys_col.insert_many(export_full_ys.to_dict(\"records\"))\n",
    "gs_col.insert_many(export_full_gs.to_dict(\"records\"))\n",
    "combined_col.insert_many(export_combined.to_dict(\"records\"))\n",
    "er_ys_col.insert_many(export_er_ys.to_dict(\"records\"))"
   ]
  }
 ],
 "metadata": {
  "kernelspec": {
   "display_name": "Python 3.8.7 64-bit ('postprocessing')",
   "metadata": {
    "interpreter": {
     "hash": "46eb298116f69ca2464771b958d73d8a41bc382f0a9fdc8aab5da944d6cfb8a4"
    }
   },
   "name": "python3"
  },
  "language_info": {
   "codemirror_mode": {
    "name": "ipython",
    "version": 3
   },
   "file_extension": ".py",
   "mimetype": "text/x-python",
   "name": "python",
   "nbconvert_exporter": "python",
   "pygments_lexer": "ipython3",
   "version": "3.8.7"
  },
  "orig_nbformat": 2
 },
 "nbformat": 4,
 "nbformat_minor": 2
}